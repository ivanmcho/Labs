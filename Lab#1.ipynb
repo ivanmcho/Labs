{
 "cells": [
  {
   "cell_type": "markdown",
   "id": "c5461341-f9f3-483b-a63c-f4637a26076a",
   "metadata": {},
   "source": [
    "# Git"
   ]
  },
  {
   "cell_type": "markdown",
   "id": "bcece503-d276-4cad-90a2-b674685c97eb",
   "metadata": {},
   "source": [
    "\n",
    "Git es un sistema de control de versiones distribuido, lo que significa que cada clon local de un proyecto constituye un repositorio completo y funcional de control de versiones. Estos repositorios locales permiten a los usuarios trabajar de manera autónoma, ya sea en línea o fuera de línea, con facilidad."
   ]
  },
  {
   "cell_type": "markdown",
   "id": "90f299e3-94af-41da-a5a2-452dd440dd0a",
   "metadata": {},
   "source": [
    "## Comandos Basicos"
   ]
  },
  {
   "cell_type": "markdown",
   "id": "861c776c-b27a-4de3-977c-e606cb226800",
   "metadata": {},
   "source": [
    "`git init`: Inicia un nuevo repositorio local de Git.\n",
    "\n",
    "`git clone`: Utilizado para copiar un repositorio existente.\n",
    "\n",
    "`git add`: Agrega archivos al área de preparación para su posterior confirmación.\n",
    "\n",
    "`git commit`: Guarda los cambios realizados en el repositorio local de Git.\n",
    "\n",
    "`git config`: Permite configurar opciones específicas de Git, como el nombre de usuario, correo electrónico, etc.\n",
    "\n",
    "`git status`: Muestra el estado actual del repositorio, incluyendo archivos modificados, archivos preparados y cambios sin seguimiento.\n",
    "\n",
    "`git push`: Envía cambios confirmados a la rama principal del repositorio remoto.\n",
    "\n",
    "`git remote`: Proporciona información sobre los repositorios remotos vinculados.\n",
    "\n",
    "`git checkout`: Crea y navega entre ramas.\n",
    "\n",
    "`git pull`: Fusiona los cambios del repositorio remoto con el repositorio local.\n",
    "\n"
   ]
  },
  {
   "cell_type": "markdown",
   "id": "a2625cc5-df5e-4b30-aa5e-5b7a95edb45e",
   "metadata": {},
   "source": [
    "## Flujos de trabajo"
   ]
  },
  {
   "cell_type": "markdown",
   "id": "d7aacaba-a22e-4fee-b69e-49010517a53b",
   "metadata": {},
   "source": [
    "1. **Repositorio**: Clonar el repositorio\n",
    "2. **Crear una rama**: Antes de comenzar a trabajar en una nueva característica o solución de problemas, es común crear una nueva rama.\n",
    "3. **Realizar cambios**: Los desarrolladores hacen cambios en sus archivos locales de trabajo.\n",
    "4. **Agregar y confirmar cambios**: Una vez que se realizan los cambios, se agregan al área de preparación con el comando `git add` y luego se confirman en la rama local con el comando `git commit`.\n",
    "5. **Fusionar cambios**: Si se están utilizando ramas separadas para trabajar en diferentes características, eventualmente se fusionarán de vuelta en la rama principal.\n",
    "6. **Resolver conflictos**: A veces, al fusionar ramas, pueden ocurrir conflictos si dos ramas han modificado las mismas líneas de un archivo. Los conflictos deben resolverse manualmente antes de poder completar la fusión.\n",
    "7. **Sincronizar con el repositorio remoto**: Una vez que se completan los cambios y se han fusionado en la rama principal, es importante sincronizar esos cambios con el repositorio remoto.\n"
   ]
  },
  {
   "cell_type": "markdown",
   "id": "c4ecf85a-ab8c-44ee-9dba-c05e536f7281",
   "metadata": {},
   "source": [
    "## Terminos"
   ]
  },
  {
   "cell_type": "markdown",
   "id": "10ae0162-f474-49ae-b0a9-ec0ad781ba1d",
   "metadata": {},
   "source": [
    "\n",
    "1. **Repositorio**: Un repositorio Git es donde se almacenan todos los archivos y el historial de cambios de un proyecto.\n",
    "\n",
    "2. **Clonar (clone)**: Crear una copia local de un repositorio remoto.\n",
    "\n",
    "3. **Commit**: Un commit es un registro de un conjunto de cambios en el repositorio. Cada commit tiene un mensaje descriptivo que explica los cambios realizados.\n",
    "\n",
    "4. **Branch (rama)**: Una bifurcación del desarrollo principal en un repositorio. Se utilizan para trabajar en características nuevas sin afectar al código principal.\n",
    "\n",
    "5. **Merge (fusionar)**: Combinar cambios de una rama en otra. Se utiliza, por ejemplo, para integrar el trabajo de una rama de desarrollo en la rama principal.\n",
    "\n",
    "6. **Pull (tirar)**: Obtener cambios de un repositorio remoto y fusionarlos en el repositorio local.\n",
    "\n",
    "7. **Push (empujar)**: Enviar cambios confirmados desde el repositorio local a un repositorio remoto.\n",
    "\n",
    "8. **Fork**: Hacer una copia independiente de un repositorio, generalmente para contribuir al proyecto sin afectar al repositorio original.\n",
    "\n",
    "9. **Conflictos de fusión (merge conflicts)**: Ocurren cuando dos ramas tienen cambios en el mismo lugar del mismo archivo y Git no puede determinar automáticamente cómo fusionarlos.\n",
    "\n",
    "10. **Pull request**: Una solicitud para fusionar cambios desde una rama secundaria en el repositorio principal. Se utiliza comúnmente en plataformas de alojamiento como GitHub y GitLab para facilitar la revisión y aprobación de cambios.\n",
    "\n"
   ]
  },
  {
   "cell_type": "markdown",
   "id": "d466c92a-eb55-467c-8d25-b7ee05c3c047",
   "metadata": {},
   "source": [
    "## GitHub"
   ]
  },
  {
   "cell_type": "markdown",
   "id": "58e49ea1-dbfc-4c0b-a2aa-7c6df3645476",
   "metadata": {},
   "source": [
    "GitHub es una plataforma que facilita la gestión y colaboración en proyectos de software que utilizan el sistema de control de versiones Git. Además de ofrecer funcionalidades para ver y descargar el código de una aplicación en diferentes versiones, actúa como una red social al conectar desarrolladores y usuarios, fomentando la colaboración y la mejora continua de las aplicaciones.\n",
    "\n",
    "Github también ofrece una serie de herramientas propias con las que complementar las ventajas que ya tiene el sistema Git de por sí solo.\n",
    "\n",
    "A su vez, se pueden encontrar gráficos para ver cómo trabajan los desarrolladores en sus proyectos y bifurcaciones del proyecto, viendo las actualizaciones realizadas a partir de la primera versión o los cambios que se han realizado."
   ]
  },
  {
   "cell_type": "markdown",
   "id": "aa10af26-1d3a-427f-9a55-3c25a14b16ea",
   "metadata": {},
   "source": [
    "# MagicCells"
   ]
  },
  {
   "cell_type": "markdown",
   "id": "1cfe1f70-b8a8-4783-8995-e30bd1babf56",
   "metadata": {},
   "source": [
    "Las MagicCells son comandos especiales que se utilizan en las celdas de un Jupyter Notebook para realizar funciones específicas o \n",
    "interactuar con el entorno de ejecución de manera especial. Por ejemplo, en Python, \n",
    "algunas MagicCells comunes son %matplotlib para habilitar la visualización de gráficos \n",
    "en línea con Matplotlib, %timeit para medir el tiempo de ejecución de un fragmento de código,\n",
    "%load para cargar un archivo externo en la celda actual, entre otros"
   ]
  },
  {
   "cell_type": "markdown",
   "id": "9feb7516-7977-4edf-9902-c8d18ea26b95",
   "metadata": {},
   "source": [
    "Cada lenguaje admitido por Jupyter Notebook puede tener sus propias MagicCells específicas que facilitan tareas comunes, simplifican la interacción con el entorno de ejecución y agregan funcionalidades adicionales al flujo de trabajo de programación dentro del notebook."
   ]
  },
  {
   "cell_type": "markdown",
   "id": "ed89c7c4-c371-4ce8-93e1-e197b67ec70d",
   "metadata": {},
   "source": [
    "## Ejemplos"
   ]
  },
  {
   "cell_type": "markdown",
   "id": "9c346b67-8f81-4b40-9b51-361e3e2b951a",
   "metadata": {},
   "source": [
    "1. **`%matplotlib inline`**: Esta MagicCell permite que las figuras generadas por Matplotlib se muestren directamente en el notebook.\n",
    "\n",
    "2. **`%timeit`**: Se utiliza para medir el tiempo de ejecución de una única línea de código o de una función.\n",
    "\n",
    "3. **`%load`**: Permite cargar el contenido de un script o archivo en una celda de código.\n",
    "\n",
    "4. **`%%html`**: Esta MagicCell permite que una celda contenga código HTML y lo renderiza como tal en el notebook.\n",
    "\n",
    "5. **`%%bash`**: Se utiliza para ejecutar comandos de shell en una celda de código.\n",
    "\n",
    "6. **`%reset`**: Reinicia el estado del kernel, lo que significa que elimina todas las variables definidas y los módulos importados.\n",
    "\n",
    "7. **`%pdb`**: Activa el depurador interactivo (PDB) para rastrear errores y examinar el estado del programa en caso de excepciones.\n"
   ]
  }
 ],
 "metadata": {
  "kernelspec": {
   "display_name": "Python 3 (ipykernel)",
   "language": "python",
   "name": "python3"
  },
  "language_info": {
   "codemirror_mode": {
    "name": "ipython",
    "version": 3
   },
   "file_extension": ".py",
   "mimetype": "text/x-python",
   "name": "python",
   "nbconvert_exporter": "python",
   "pygments_lexer": "ipython3",
   "version": "3.10.9"
  }
 },
 "nbformat": 4,
 "nbformat_minor": 5
}
