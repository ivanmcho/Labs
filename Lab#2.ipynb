{
 "cells": [
  {
   "cell_type": "markdown",
   "id": "36eddf03-0318-486a-a42b-1b1e840dbe05",
   "metadata": {},
   "source": [
    "# Laboratorio #2"
   ]
  },
  {
   "cell_type": "markdown",
   "id": "09ba4864-df86-47ea-8804-27697f7aafde",
   "metadata": {},
   "source": [
    "## Sintaxis y Estructuras de Datos"
   ]
  },
  {
   "cell_type": "markdown",
   "id": "824dfa87-4572-438a-b7ee-d49f383deadf",
   "metadata": {},
   "source": [
    "#### Ejercicio 1\n",
    "Progama que reciba de parametro un numero de segundos y que despliegue en pantalla, las horas, minutos y segundos que representan"
   ]
  },
  {
   "cell_type": "code",
   "execution_count": 2,
   "id": "63b9cd6d-e976-4487-98e2-79b93b820a90",
   "metadata": {},
   "outputs": [],
   "source": [
    "def convertir_segundos(segundos):\n",
    "    horas = segundos // 3600\n",
    "    segundos_restantes = segundos % 3600\n",
    "    minutos = segundos_restantes // 60\n",
    "    segundos_final = segundos_restantes % 60\n",
    "    return horas, minutos, segundos_final\n"
   ]
  },
  {
   "cell_type": "code",
   "execution_count": 7,
   "id": "a95a279f-2af5-4d6a-8cec-22cf87a4c796",
   "metadata": {},
   "outputs": [
    {
     "name": "stdin",
     "output_type": "stream",
     "text": [
      "Ingrese el número de segundos:  ew\n"
     ]
    },
    {
     "name": "stdout",
     "output_type": "stream",
     "text": [
      "Error: invalid literal for int() with base 10: 'ew'. Por favor ingrese un número entero positivo.\n"
     ]
    }
   ],
   "source": [
    "try:\n",
    "    segundos = int(input(\"Ingrese el número de segundos: \"))\n",
    "    if segundos < 0:\n",
    "        raise ValueError(\"El número de segundos no puede ser negativo.\")\n",
    "    horas, minutos, segundos_final = convertir_segundos(segundos)\n",
    "    print(f\"Horas: {horas}, Minutos: {minutos}, Segundos: {segundos_final}\")\n",
    "except ValueError as e:\n",
    "    print(f\"Error: {e}. Por favor ingrese un número entero positivo.\")"
   ]
  },
  {
   "cell_type": "markdown",
   "id": "0b41a524-fa94-4a39-a455-ffcb79351967",
   "metadata": {},
   "source": [
    "#### Ejercicio 2\n",
    "Haga una función en Python que dado un número entre 1 y 20. Y un carácter cualquiera\n",
    "despliegue cuatro patrones triangulares."
   ]
  },
  {
   "cell_type": "code",
   "execution_count": 9,
   "id": "5a2112b1-e34b-4e93-8b25-fe3633916b1a",
   "metadata": {},
   "outputs": [
    {
     "name": "stdin",
     "output_type": "stream",
     "text": [
      "Ingrese un número entre 1 y 20:  4\n",
      "Ingrese un carácter:  &\n"
     ]
    },
    {
     "name": "stdout",
     "output_type": "stream",
     "text": [
      "Patrón ascendente:\n",
      "&\n",
      "&&\n",
      "&&&\n",
      "&&&&\n",
      "\n",
      "Patrón descendente:\n",
      "&&&&\n",
      "&&&\n",
      "&&\n",
      "&\n",
      "\n",
      "Patrón con espacios a la izquierda:\n",
      "&&&&\n",
      " &&&\n",
      "  &&\n",
      "   &\n",
      "\n",
      "Patrón invertido:\n",
      "&&&&\n",
      " &&&\n",
      "  &&\n",
      "   &\n"
     ]
    }
   ],
   "source": [
    "def patron_ascendente(numero, caracter):\n",
    "    for i in range(1, numero + 1):\n",
    "        print(caracter * i)\n",
    "\n",
    "def patron_descendente(numero, caracter):\n",
    "    for i in range(numero, 0, -1):\n",
    "        print(caracter * i)\n",
    "\n",
    "def patron_espacios(numero, caracter):\n",
    "    for i in range(numero):\n",
    "        print(\" \" * i + caracter * (numero - i))\n",
    "\n",
    "def patron_invertido(numero, caracter):\n",
    "    for i in range(numero, 0, -1):\n",
    "        print(\" \" * (numero - i) + caracter * i)\n",
    "\n",
    "def mostrar_patrones(numero, caracter):\n",
    "    print(\"Patrón ascendente:\")\n",
    "    patron_ascendente(numero, caracter)\n",
    "    print(\"\\nPatrón descendente:\")\n",
    "    patron_descendente(numero, caracter)\n",
    "    print(\"\\nPatrón con espacios a la izquierda:\")\n",
    "    patron_espacios(numero, caracter)\n",
    "    print(\"\\nPatrón invertido:\")\n",
    "    patron_invertido(numero, caracter)\n",
    "\n",
    "numero = int(input(\"Ingrese un número entre 1 y 20: \"))\n",
    "caracter = input(\"Ingrese un carácter: \")\n",
    "\n",
    "if 1 <= numero <= 20:\n",
    "    mostrar_patrones(numero, caracter)\n",
    "else:\n",
    "    print(\"El número debe estar entre 1 y 20.\")\n"
   ]
  },
  {
   "cell_type": "markdown",
   "id": "88fc6c5b-5b46-4258-b43b-ee38697d200c",
   "metadata": {},
   "source": [
    "#### Ejercicio 3\n",
    " Haga un programa en Python que la fecha de nacimiento de una persona (puede ingresar por\n",
    "separado cada valor, es decir pedir primero d´ıa, luego mes y luego an˜o), despliegue la edad\n",
    "de la persona en an˜os, meses y d´ıas. Su resultado puede ser aproximado."
   ]
  },
  {
   "cell_type": "code",
   "execution_count": 13,
   "id": "cd200d03-244e-450a-980d-bebd0ef999da",
   "metadata": {},
   "outputs": [
    {
     "name": "stdin",
     "output_type": "stream",
     "text": [
      "Ingrese el año de nacimiento (formato YYYY):  1998\n",
      "Ingrese el mes de nacimiento (1-12):  9\n",
      "Ingrese el día de nacimiento (1-31):  23\n"
     ]
    },
    {
     "name": "stdout",
     "output_type": "stream",
     "text": [
      "Edad: 25 años, 5 meses y 10 días.\n"
     ]
    }
   ],
   "source": [
    "from datetime import date\n",
    "\n",
    "def calcular_edad(fecha_nacimiento):\n",
    "    fecha_actual = date.today()\n",
    "    edad = fecha_actual.year - fecha_nacimiento.year - ((fecha_actual.month, fecha_actual.day) < (fecha_nacimiento.month, fecha_nacimiento.day))\n",
    "    if fecha_actual.month < fecha_nacimiento.month or (fecha_actual.month == fecha_nacimiento.month and fecha_actual.day < fecha_nacimiento.day):\n",
    "        meses = (fecha_actual.month + 12) - fecha_nacimiento.month - 1\n",
    "    else:\n",
    "        meses = fecha_actual.month - fecha_nacimiento.month\n",
    "    if fecha_actual.day < fecha_nacimiento.day:\n",
    "        dias = (fecha_actual.day + 30) - fecha_nacimiento.day\n",
    "    else:\n",
    "        dias = fecha_actual.day - fecha_nacimiento.day\n",
    "    return edad, meses, dias\n",
    "\n",
    "\n",
    "año = int(input(\"Ingrese el año de nacimiento (formato YYYY): \"))\n",
    "mes = int(input(\"Ingrese el mes de nacimiento (1-12): \"))\n",
    "dia = int(input(\"Ingrese el día de nacimiento (1-31): \"))\n",
    "\n",
    "fecha_nacimiento = date(año, mes, dia)\n",
    "\n",
    "edad, meses, dias = calcular_edad(fecha_nacimiento)\n",
    "\n",
    "print(f\"Edad: {edad} años, {meses} meses y {dias} días.\")\n",
    "\n",
    "\n"
   ]
  },
  {
   "cell_type": "markdown",
   "id": "f11dff2b-3cf9-4de1-b3e8-6799c9e9892f",
   "metadata": {},
   "source": [
    "#### Ejercicio 4\n",
    " Escriba una funcion en Python que dada una tupla de elementos (numeros o letras) esta se\n",
    "convierta a un string. Tomar nota del siguiente ejemplo:\n",
    "- Si la entrada fuera: (10, 20, 40, 5, 70)\n",
    "- La salida deber´ıa ser: 102040570"
   ]
  },
  {
   "cell_type": "code",
   "execution_count": 14,
   "id": "423370aa-63ae-4b2b-a033-830ea95f8e1e",
   "metadata": {},
   "outputs": [
    {
     "name": "stdout",
     "output_type": "stream",
     "text": [
      "La salida es: 102040570\n"
     ]
    }
   ],
   "source": [
    "def tupla_a_string(tupla):\n",
    "    return ''.join(map(str, tupla))\n",
    "\n",
    "\n",
    "# Ejemplo de uso\n",
    "entrada = (10, 20, 40, 5, 70)\n",
    "salida = tupla_a_string(entrada)\n",
    "print(\"La salida es:\", salida)\n"
   ]
  },
  {
   "cell_type": "markdown",
   "id": "9938e50d-2699-4f78-b11d-dad8870504cc",
   "metadata": {},
   "source": [
    "#### Ejercicio 5\n",
    "Cree un programa en Python que dada una lista de tuplas, elimine las tuplas que est´an vac´ıas.\n",
    "Tomar nota del siguiente ejemplo:\n",
    "- Si la lista fuera: [(), (), (’X’,), (’a’, ’b’), (’a’, ’b’, ’c’), (’d’)]\n",
    "- El resultado deber´ıa ser: [(’X’), (’a’, ’b’), (’a’, ’b’, ’c’), ’d’]"
   ]
  },
  {
   "cell_type": "code",
   "execution_count": 19,
   "id": "65595a15-2b90-4988-945f-d4c9fa920699",
   "metadata": {},
   "outputs": [
    {
     "name": "stdout",
     "output_type": "stream",
     "text": [
      "El resultado es: [('X',), ('a', 'b'), ('a', 'b', 'c'), 'd']\n"
     ]
    }
   ],
   "source": [
    "def eliminar_tuplas_vacias(lista_tuplas):\n",
    "    return [tupla for tupla in lista_tuplas if tupla]\n",
    "\n",
    "# Ejemplo de uso\n",
    "lista = [(), (), ('X',), ('a', 'b'), ('a', 'b', 'c'), ('d')]\n",
    "resultado = eliminar_tuplas_vacias(lista)\n",
    "print(\"El resultado es:\", resultado)\n"
   ]
  },
  {
   "cell_type": "markdown",
   "id": "f355192b-2e86-4903-8d44-a40893f6b91e",
   "metadata": {},
   "source": [
    "#### Ejercicio 6\n",
    " Cree una funcion en Python que dada una tupla de tuplas con numeros, produzca una tupla\n",
    "con el promedio de cada tupla individual, debe usar comprehensions para desarrollar este\n",
    "ejercicio. Tomar nota del siguiente ejemplo:\n",
    "- Si la tupla de entrada fuera: ((10, 10, 10, 12), (30, 45, 56, 45), (81, 80, 39, 32))\n",
    "- El resultado deber´ıa ser: (10.5, 44, 58)"
   ]
  },
  {
   "cell_type": "code",
   "execution_count": 21,
   "id": "93de7c9e-08ba-4fc2-8df9-b4ac720a5524",
   "metadata": {},
   "outputs": [
    {
     "name": "stdout",
     "output_type": "stream",
     "text": [
      "Tupla Original: ((10, 10, 10, 12), (30, 45, 56, 45), (81, 80, 39, 32))\n",
      "El resultado es: (10.5, 44.0, 58.0)\n"
     ]
    }
   ],
   "source": [
    "def calcular_promedios(tupla_de_tuplas):\n",
    "    return tuple(sum(tupla) / len(tupla) for tupla in tupla_de_tuplas)\n",
    "\n",
    "# Ejemplo de uso\n",
    "tupla_entrada = ((10, 10, 10, 12), (30, 45, 56, 45), (81, 80, 39, 32))\n",
    "resultado = calcular_promedios(tupla_entrada)\n",
    "print(\"Tupla Original:\", tupla_entrada)\n",
    "print(\"El resultado es:\", resultado)\n"
   ]
  },
  {
   "cell_type": "markdown",
   "id": "362d8a53-9ceb-4b8f-8423-f2434d6698b6",
   "metadata": {},
   "source": [
    "#### Ejercicio 7\n"
   ]
  },
  {
   "cell_type": "code",
   "execution_count": 25,
   "id": "b6326611-f33f-4c81-a914-f1c458e32566",
   "metadata": {},
   "outputs": [
    {
     "name": "stdout",
     "output_type": "stream",
     "text": [
      "\n",
      "Menú:\n",
      "1. Añadir una nueva factura\n",
      "2. Pagar una factura existente\n",
      "3. Terminar\n"
     ]
    },
    {
     "name": "stdin",
     "output_type": "stream",
     "text": [
      "Seleccione una opción (1/2/3):  1\n",
      "Ingrese el número de factura (4 dígitos):  1234\n",
      "Ingrese el costo de la factura:  900\n"
     ]
    },
    {
     "name": "stdout",
     "output_type": "stream",
     "text": [
      "Factura añadida correctamente.\n",
      "Estado actual de las facturas:\n",
      "{'1234': 900.0}\n",
      "Cantidad cobrada hasta el momento: 900.0\n",
      "Cantidad pendiente de cobro: 900.0\n",
      "\n",
      "Menú:\n",
      "1. Añadir una nueva factura\n",
      "2. Pagar una factura existente\n",
      "3. Terminar\n"
     ]
    },
    {
     "name": "stdin",
     "output_type": "stream",
     "text": [
      "Seleccione una opción (1/2/3):  1\n",
      "Ingrese el número de factura (4 dígitos):  546\n",
      "Número de factura incorrecto. Por favor, ingrese un número de factura válido (4 dígitos):  123\n",
      "Número de factura incorrecto. Por favor, ingrese un número de factura válido (4 dígitos):  5432\n",
      "Ingrese el costo de la factura:  30\n"
     ]
    },
    {
     "name": "stdout",
     "output_type": "stream",
     "text": [
      "Factura añadida correctamente.\n",
      "Estado actual de las facturas:\n",
      "{'1234': 900.0, '5432': 30.0}\n",
      "Cantidad cobrada hasta el momento: 930.0\n",
      "Cantidad pendiente de cobro: 930.0\n",
      "\n",
      "Menú:\n",
      "1. Añadir una nueva factura\n",
      "2. Pagar una factura existente\n",
      "3. Terminar\n"
     ]
    },
    {
     "name": "stdin",
     "output_type": "stream",
     "text": [
      "Seleccione una opción (1/2/3):  2\n",
      "Ingrese el número de factura a pagar:  5432\n"
     ]
    },
    {
     "name": "stdout",
     "output_type": "stream",
     "text": [
      "Factura pagada correctamente.\n",
      "Cantidad cobrada hasta el momento: 900.0\n",
      "Cantidad pendiente de cobro: 900.0\n",
      "\n",
      "Menú:\n",
      "1. Añadir una nueva factura\n",
      "2. Pagar una factura existente\n",
      "3. Terminar\n"
     ]
    },
    {
     "name": "stdin",
     "output_type": "stream",
     "text": [
      "Seleccione una opción (1/2/3):  2\n",
      "Ingrese el número de factura a pagar:  1234\n"
     ]
    },
    {
     "name": "stdout",
     "output_type": "stream",
     "text": [
      "Factura pagada correctamente.\n",
      "Cantidad cobrada hasta el momento: 0\n",
      "Cantidad pendiente de cobro: 0\n",
      "\n",
      "Menú:\n",
      "1. Añadir una nueva factura\n",
      "2. Pagar una factura existente\n",
      "3. Terminar\n"
     ]
    },
    {
     "name": "stdin",
     "output_type": "stream",
     "text": [
      "Seleccione una opción (1/2/3):  3\n"
     ]
    },
    {
     "name": "stdout",
     "output_type": "stream",
     "text": [
      "Saliendo del programa...\n"
     ]
    }
   ],
   "source": [
    "def mostrar_estado_facturas(facturas):\n",
    "    total_cobrado = sum(facturas.values())\n",
    "    total_pendiente = sum([valor for valor in facturas.values() if valor > 0])\n",
    "    print(\"Cantidad cobrada hasta el momento:\", total_cobrado)\n",
    "    print(\"Cantidad pendiente de cobro:\", total_pendiente)\n",
    "\n",
    "def anadir_factura(facturas):\n",
    "    num_factura = input(\"Ingrese el número de factura (4 dígitos): \")\n",
    "    while not num_factura.isdigit() or len(num_factura) != 4:\n",
    "        num_factura = input(\"Número de factura incorrecto. Por favor, ingrese un número de factura válido (4 dígitos): \")\n",
    "    costo = float(input(\"Ingrese el costo de la factura: \"))\n",
    "    facturas[num_factura] = costo\n",
    "    print(\"Factura añadida correctamente.\")\n",
    "    print(\"Estado actual de las facturas:\")\n",
    "    print(facturas)\n",
    "\n",
    "def pagar_factura(facturas):\n",
    "    num_factura = input(\"Ingrese el número de factura a pagar: \")\n",
    "    if num_factura in facturas:\n",
    "        del facturas[num_factura]\n",
    "        print(\"Factura pagada correctamente.\")\n",
    "    else:\n",
    "        print(\"La factura especificada no existe.\")\n",
    "\n",
    "\n",
    "facturas = {}\n",
    "while True:\n",
    "    print(\"\\nMenú:\")\n",
    "    print(\"1. Añadir una nueva factura\")\n",
    "    print(\"2. Pagar una factura existente\")\n",
    "    print(\"3. Terminar\")\n",
    "    opcion = input(\"Seleccione una opción (1/2/3): \")\n",
    "\n",
    "    if opcion == \"1\":\n",
    "        anadir_factura(facturas)\n",
    "        mostrar_estado_facturas(facturas)\n",
    "    elif opcion == \"2\":\n",
    "        pagar_factura(facturas)\n",
    "        mostrar_estado_facturas(facturas)\n",
    "    elif opcion == \"3\":\n",
    "        print(\"Saliendo del programa...\")\n",
    "        break\n",
    "    else:\n",
    "        print(\"Opción no válida. Por favor, seleccione 1, 2 o 3.\")\n",
    "\n"
   ]
  },
  {
   "cell_type": "markdown",
   "id": "914a2157-8b73-4a0a-9672-cb814de39005",
   "metadata": {},
   "source": [
    "#### Ejercicio 8\n"
   ]
  },
  {
   "cell_type": "code",
   "execution_count": 30,
   "id": "3ac1285c-1923-4b71-8a06-02e2808ccee2",
   "metadata": {},
   "outputs": [
    {
     "name": "stdout",
     "output_type": "stream",
     "text": [
      "Conjunto 1: {'C-07', 'C-06', 'C-09', 'T-05', 'C-03', 'E-10', 'C-04', 'E-03'}\n",
      "Conjunto 2: {'P-03', 'P-08', 'C-10', 'E-06', 'T-10', 'E-04', 'T-09', 'P-06', 'E-08', 'T-08', 'T-02', 'E-11', 'E-07', 'C-05', 'P-09', 'T-11', 'P-10', 'P-13', 'P-04', 'E-01', 'E-09', 'T-03', 'P-12', 'C-11', 'C-12', 'T-04', 'E-12', 'T-13', 'P-05', 'E-05', 'E-13', 'P-02', 'P-11', 'C-01', 'T-07', 'C-13', 'P-01', 'P-07', 'E-02', 'T-12', 'C-02', 'T-01', 'C-08', 'T-06'}\n",
      "\n",
      "Probabilidad de la intersección: 0.0\n",
      "Probabilidad de la unión: 1.0\n",
      "Los eventos no son independientes.\n"
     ]
    }
   ],
   "source": [
    "import random\n",
    "\n",
    "def crear_baraja():\n",
    "    tipos = ['T', 'C', 'P', 'E']\n",
    "    numeros = [str(i).zfill(2) for i in range(1, 14)]\n",
    "    return {tipo + '-' + numero for tipo in tipos for numero in numeros}\n",
    "\n",
    "def dividir_conjunto(conjunto):\n",
    "    longitud_conjunto_1 = random.randint(1, len(conjunto))\n",
    "    conjunto_1 = set(random.sample(list(conjunto), longitud_conjunto_1))\n",
    "    #conjunto_1 = set(random.sample(conjunto, longitud_conjunto_1))\n",
    "    conjunto_2 = conjunto - conjunto_1\n",
    "    return conjunto_1, conjunto_2\n",
    "\n",
    "def calcular_probabilidades(conjunto_1, conjunto_2):\n",
    "    # Calcula la intersección de los dos conjuntos (cartas en común)\n",
    "    interseccion = conjunto_1 & conjunto_2\n",
    "    \n",
    "    # Calcula la probabilidad de la intersección dividiendo el tamaño de la intersección\n",
    "    # entre el tamaño de conjunto_1 y conjunto_2\n",
    "    prob_interseccion = len(interseccion) / len(conjunto_1) / len(conjunto_2)\n",
    "    \n",
    "    # Calcula la probabilidad de la unión usando la regla de la adición:\n",
    "    # P(A ∪ B) = P(A) + P(B) - P(A ∩ B)\n",
    "    prob_union = (len(conjunto_1) + len(conjunto_2) - len(interseccion)) / len(crear_baraja())\n",
    "    \n",
    "    # Retorna las probabilidades de la intersección y la unión\n",
    "    return prob_interseccion, prob_union\n",
    "\n",
    "\n",
    "\n",
    "baraja = crear_baraja()\n",
    "conjunto_1, conjunto_2 = dividir_conjunto(baraja)\n",
    "\n",
    "print(\"Conjunto 1:\", conjunto_1)\n",
    "print(\"Conjunto 2:\", conjunto_2)\n",
    "\n",
    "prob_interseccion, prob_union = calcular_probabilidades(conjunto_1, conjunto_2)\n",
    "\n",
    "print(\"\\nProbabilidad de la intersección:\", prob_interseccion)\n",
    "print(\"Probabilidad de la unión:\", prob_union)\n",
    "\n",
    "if prob_interseccion == prob_union:\n",
    "    print(\"Los eventos son independientes y cumplen la regla del producto.\")\n",
    "else:\n",
    "    print(\"Los eventos no son independientes.\")\n",
    "\n",
    "\n"
   ]
  }
 ],
 "metadata": {
  "kernelspec": {
   "display_name": "Python 3 (ipykernel)",
   "language": "python",
   "name": "python3"
  },
  "language_info": {
   "codemirror_mode": {
    "name": "ipython",
    "version": 3
   },
   "file_extension": ".py",
   "mimetype": "text/x-python",
   "name": "python",
   "nbconvert_exporter": "python",
   "pygments_lexer": "ipython3",
   "version": "3.10.9"
  }
 },
 "nbformat": 4,
 "nbformat_minor": 5
}
